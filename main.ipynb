{
  "nbformat": 4,
  "nbformat_minor": 0,
  "metadata": {
    "colab": {
      "provenance": []
    },
    "kernelspec": {
      "name": "python3",
      "display_name": "Python 3"
    },
    "language_info": {
      "name": "python"
    }
  },
  "cells": [
    {
      "cell_type": "code",
      "source": [
        "import yfinance as yf\n",
        "import numpy as np\n",
        "import pandas as pd\n",
        "import tensorflow as tf\n",
        "import matplotlib.pyplot as plt"
      ],
      "metadata": {
        "id": "QEfuyZ0Tu-Bp"
      },
      "execution_count": null,
      "outputs": []
    },
    {
      "cell_type": "code",
      "source": [
        "data = yf.download(\"GOOGL\" , start = \"2019-01-01\" , interval = '1d')\n",
        "data.head()\n",
        "\n"
      ],
      "metadata": {
        "colab": {
          "base_uri": "https://localhost:8080/",
          "height": 255
        },
        "id": "CPWIs_cFvFTb",
        "outputId": "614f2cce-43a8-4a1f-a1f8-a6016aaa96ca"
      },
      "execution_count": null,
      "outputs": [
        {
          "output_type": "stream",
          "name": "stdout",
          "text": [
            "\r[*********************100%%**********************]  1 of 1 completed\n"
          ]
        },
        {
          "output_type": "execute_result",
          "data": {
            "text/plain": [
              "                 Open       High        Low      Close  Adj Close    Volume\n",
              "Date                                                                       \n",
              "2019-01-02  51.360001  53.039501  51.264000  52.734001  52.734001  31868000\n",
              "2019-01-03  52.533501  53.313000  51.118500  51.273499  51.273499  41960000\n",
              "2019-01-04  52.127998  54.000000  51.842999  53.903500  53.903500  46022000\n",
              "2019-01-07  54.048500  54.134998  53.132000  53.796001  53.796001  47446000\n",
              "2019-01-08  54.299999  54.667500  53.417500  54.268501  54.268501  35414000"
            ],
            "text/html": [
              "\n",
              "  <div id=\"df-66fb686d-c9c0-47bd-8305-8c40244e1f92\" class=\"colab-df-container\">\n",
              "    <div>\n",
              "<style scoped>\n",
              "    .dataframe tbody tr th:only-of-type {\n",
              "        vertical-align: middle;\n",
              "    }\n",
              "\n",
              "    .dataframe tbody tr th {\n",
              "        vertical-align: top;\n",
              "    }\n",
              "\n",
              "    .dataframe thead th {\n",
              "        text-align: right;\n",
              "    }\n",
              "</style>\n",
              "<table border=\"1\" class=\"dataframe\">\n",
              "  <thead>\n",
              "    <tr style=\"text-align: right;\">\n",
              "      <th></th>\n",
              "      <th>Open</th>\n",
              "      <th>High</th>\n",
              "      <th>Low</th>\n",
              "      <th>Close</th>\n",
              "      <th>Adj Close</th>\n",
              "      <th>Volume</th>\n",
              "    </tr>\n",
              "    <tr>\n",
              "      <th>Date</th>\n",
              "      <th></th>\n",
              "      <th></th>\n",
              "      <th></th>\n",
              "      <th></th>\n",
              "      <th></th>\n",
              "      <th></th>\n",
              "    </tr>\n",
              "  </thead>\n",
              "  <tbody>\n",
              "    <tr>\n",
              "      <th>2019-01-02</th>\n",
              "      <td>51.360001</td>\n",
              "      <td>53.039501</td>\n",
              "      <td>51.264000</td>\n",
              "      <td>52.734001</td>\n",
              "      <td>52.734001</td>\n",
              "      <td>31868000</td>\n",
              "    </tr>\n",
              "    <tr>\n",
              "      <th>2019-01-03</th>\n",
              "      <td>52.533501</td>\n",
              "      <td>53.313000</td>\n",
              "      <td>51.118500</td>\n",
              "      <td>51.273499</td>\n",
              "      <td>51.273499</td>\n",
              "      <td>41960000</td>\n",
              "    </tr>\n",
              "    <tr>\n",
              "      <th>2019-01-04</th>\n",
              "      <td>52.127998</td>\n",
              "      <td>54.000000</td>\n",
              "      <td>51.842999</td>\n",
              "      <td>53.903500</td>\n",
              "      <td>53.903500</td>\n",
              "      <td>46022000</td>\n",
              "    </tr>\n",
              "    <tr>\n",
              "      <th>2019-01-07</th>\n",
              "      <td>54.048500</td>\n",
              "      <td>54.134998</td>\n",
              "      <td>53.132000</td>\n",
              "      <td>53.796001</td>\n",
              "      <td>53.796001</td>\n",
              "      <td>47446000</td>\n",
              "    </tr>\n",
              "    <tr>\n",
              "      <th>2019-01-08</th>\n",
              "      <td>54.299999</td>\n",
              "      <td>54.667500</td>\n",
              "      <td>53.417500</td>\n",
              "      <td>54.268501</td>\n",
              "      <td>54.268501</td>\n",
              "      <td>35414000</td>\n",
              "    </tr>\n",
              "  </tbody>\n",
              "</table>\n",
              "</div>\n",
              "    <div class=\"colab-df-buttons\">\n",
              "\n",
              "  <div class=\"colab-df-container\">\n",
              "    <button class=\"colab-df-convert\" onclick=\"convertToInteractive('df-66fb686d-c9c0-47bd-8305-8c40244e1f92')\"\n",
              "            title=\"Convert this dataframe to an interactive table.\"\n",
              "            style=\"display:none;\">\n",
              "\n",
              "  <svg xmlns=\"http://www.w3.org/2000/svg\" height=\"24px\" viewBox=\"0 -960 960 960\">\n",
              "    <path d=\"M120-120v-720h720v720H120Zm60-500h600v-160H180v160Zm220 220h160v-160H400v160Zm0 220h160v-160H400v160ZM180-400h160v-160H180v160Zm440 0h160v-160H620v160ZM180-180h160v-160H180v160Zm440 0h160v-160H620v160Z\"/>\n",
              "  </svg>\n",
              "    </button>\n",
              "\n",
              "  <style>\n",
              "    .colab-df-container {\n",
              "      display:flex;\n",
              "      gap: 12px;\n",
              "    }\n",
              "\n",
              "    .colab-df-convert {\n",
              "      background-color: #E8F0FE;\n",
              "      border: none;\n",
              "      border-radius: 50%;\n",
              "      cursor: pointer;\n",
              "      display: none;\n",
              "      fill: #1967D2;\n",
              "      height: 32px;\n",
              "      padding: 0 0 0 0;\n",
              "      width: 32px;\n",
              "    }\n",
              "\n",
              "    .colab-df-convert:hover {\n",
              "      background-color: #E2EBFA;\n",
              "      box-shadow: 0px 1px 2px rgba(60, 64, 67, 0.3), 0px 1px 3px 1px rgba(60, 64, 67, 0.15);\n",
              "      fill: #174EA6;\n",
              "    }\n",
              "\n",
              "    .colab-df-buttons div {\n",
              "      margin-bottom: 4px;\n",
              "    }\n",
              "\n",
              "    [theme=dark] .colab-df-convert {\n",
              "      background-color: #3B4455;\n",
              "      fill: #D2E3FC;\n",
              "    }\n",
              "\n",
              "    [theme=dark] .colab-df-convert:hover {\n",
              "      background-color: #434B5C;\n",
              "      box-shadow: 0px 1px 3px 1px rgba(0, 0, 0, 0.15);\n",
              "      filter: drop-shadow(0px 1px 2px rgba(0, 0, 0, 0.3));\n",
              "      fill: #FFFFFF;\n",
              "    }\n",
              "  </style>\n",
              "\n",
              "    <script>\n",
              "      const buttonEl =\n",
              "        document.querySelector('#df-66fb686d-c9c0-47bd-8305-8c40244e1f92 button.colab-df-convert');\n",
              "      buttonEl.style.display =\n",
              "        google.colab.kernel.accessAllowed ? 'block' : 'none';\n",
              "\n",
              "      async function convertToInteractive(key) {\n",
              "        const element = document.querySelector('#df-66fb686d-c9c0-47bd-8305-8c40244e1f92');\n",
              "        const dataTable =\n",
              "          await google.colab.kernel.invokeFunction('convertToInteractive',\n",
              "                                                    [key], {});\n",
              "        if (!dataTable) return;\n",
              "\n",
              "        const docLinkHtml = 'Like what you see? Visit the ' +\n",
              "          '<a target=\"_blank\" href=https://colab.research.google.com/notebooks/data_table.ipynb>data table notebook</a>'\n",
              "          + ' to learn more about interactive tables.';\n",
              "        element.innerHTML = '';\n",
              "        dataTable['output_type'] = 'display_data';\n",
              "        await google.colab.output.renderOutput(dataTable, element);\n",
              "        const docLink = document.createElement('div');\n",
              "        docLink.innerHTML = docLinkHtml;\n",
              "        element.appendChild(docLink);\n",
              "      }\n",
              "    </script>\n",
              "  </div>\n",
              "\n",
              "\n",
              "<div id=\"df-0c70b237-84f1-450c-bdc4-fd730f80bda6\">\n",
              "  <button class=\"colab-df-quickchart\" onclick=\"quickchart('df-0c70b237-84f1-450c-bdc4-fd730f80bda6')\"\n",
              "            title=\"Suggest charts.\"\n",
              "            style=\"display:none;\">\n",
              "\n",
              "<svg xmlns=\"http://www.w3.org/2000/svg\" height=\"24px\"viewBox=\"0 0 24 24\"\n",
              "     width=\"24px\">\n",
              "    <g>\n",
              "        <path d=\"M19 3H5c-1.1 0-2 .9-2 2v14c0 1.1.9 2 2 2h14c1.1 0 2-.9 2-2V5c0-1.1-.9-2-2-2zM9 17H7v-7h2v7zm4 0h-2V7h2v10zm4 0h-2v-4h2v4z\"/>\n",
              "    </g>\n",
              "</svg>\n",
              "  </button>\n",
              "\n",
              "<style>\n",
              "  .colab-df-quickchart {\n",
              "      --bg-color: #E8F0FE;\n",
              "      --fill-color: #1967D2;\n",
              "      --hover-bg-color: #E2EBFA;\n",
              "      --hover-fill-color: #174EA6;\n",
              "      --disabled-fill-color: #AAA;\n",
              "      --disabled-bg-color: #DDD;\n",
              "  }\n",
              "\n",
              "  [theme=dark] .colab-df-quickchart {\n",
              "      --bg-color: #3B4455;\n",
              "      --fill-color: #D2E3FC;\n",
              "      --hover-bg-color: #434B5C;\n",
              "      --hover-fill-color: #FFFFFF;\n",
              "      --disabled-bg-color: #3B4455;\n",
              "      --disabled-fill-color: #666;\n",
              "  }\n",
              "\n",
              "  .colab-df-quickchart {\n",
              "    background-color: var(--bg-color);\n",
              "    border: none;\n",
              "    border-radius: 50%;\n",
              "    cursor: pointer;\n",
              "    display: none;\n",
              "    fill: var(--fill-color);\n",
              "    height: 32px;\n",
              "    padding: 0;\n",
              "    width: 32px;\n",
              "  }\n",
              "\n",
              "  .colab-df-quickchart:hover {\n",
              "    background-color: var(--hover-bg-color);\n",
              "    box-shadow: 0 1px 2px rgba(60, 64, 67, 0.3), 0 1px 3px 1px rgba(60, 64, 67, 0.15);\n",
              "    fill: var(--button-hover-fill-color);\n",
              "  }\n",
              "\n",
              "  .colab-df-quickchart-complete:disabled,\n",
              "  .colab-df-quickchart-complete:disabled:hover {\n",
              "    background-color: var(--disabled-bg-color);\n",
              "    fill: var(--disabled-fill-color);\n",
              "    box-shadow: none;\n",
              "  }\n",
              "\n",
              "  .colab-df-spinner {\n",
              "    border: 2px solid var(--fill-color);\n",
              "    border-color: transparent;\n",
              "    border-bottom-color: var(--fill-color);\n",
              "    animation:\n",
              "      spin 1s steps(1) infinite;\n",
              "  }\n",
              "\n",
              "  @keyframes spin {\n",
              "    0% {\n",
              "      border-color: transparent;\n",
              "      border-bottom-color: var(--fill-color);\n",
              "      border-left-color: var(--fill-color);\n",
              "    }\n",
              "    20% {\n",
              "      border-color: transparent;\n",
              "      border-left-color: var(--fill-color);\n",
              "      border-top-color: var(--fill-color);\n",
              "    }\n",
              "    30% {\n",
              "      border-color: transparent;\n",
              "      border-left-color: var(--fill-color);\n",
              "      border-top-color: var(--fill-color);\n",
              "      border-right-color: var(--fill-color);\n",
              "    }\n",
              "    40% {\n",
              "      border-color: transparent;\n",
              "      border-right-color: var(--fill-color);\n",
              "      border-top-color: var(--fill-color);\n",
              "    }\n",
              "    60% {\n",
              "      border-color: transparent;\n",
              "      border-right-color: var(--fill-color);\n",
              "    }\n",
              "    80% {\n",
              "      border-color: transparent;\n",
              "      border-right-color: var(--fill-color);\n",
              "      border-bottom-color: var(--fill-color);\n",
              "    }\n",
              "    90% {\n",
              "      border-color: transparent;\n",
              "      border-bottom-color: var(--fill-color);\n",
              "    }\n",
              "  }\n",
              "</style>\n",
              "\n",
              "  <script>\n",
              "    async function quickchart(key) {\n",
              "      const quickchartButtonEl =\n",
              "        document.querySelector('#' + key + ' button');\n",
              "      quickchartButtonEl.disabled = true;  // To prevent multiple clicks.\n",
              "      quickchartButtonEl.classList.add('colab-df-spinner');\n",
              "      try {\n",
              "        const charts = await google.colab.kernel.invokeFunction(\n",
              "            'suggestCharts', [key], {});\n",
              "      } catch (error) {\n",
              "        console.error('Error during call to suggestCharts:', error);\n",
              "      }\n",
              "      quickchartButtonEl.classList.remove('colab-df-spinner');\n",
              "      quickchartButtonEl.classList.add('colab-df-quickchart-complete');\n",
              "    }\n",
              "    (() => {\n",
              "      let quickchartButtonEl =\n",
              "        document.querySelector('#df-0c70b237-84f1-450c-bdc4-fd730f80bda6 button');\n",
              "      quickchartButtonEl.style.display =\n",
              "        google.colab.kernel.accessAllowed ? 'block' : 'none';\n",
              "    })();\n",
              "  </script>\n",
              "</div>\n",
              "    </div>\n",
              "  </div>\n"
            ]
          },
          "metadata": {},
          "execution_count": 8
        }
      ]
    },
    {
      "cell_type": "code",
      "source": [
        "data.info()\n",
        "\n"
      ],
      "metadata": {
        "colab": {
          "base_uri": "https://localhost:8080/"
        },
        "id": "I98PtvTqvPyG",
        "outputId": "13caf1b3-c4c0-4c05-c0e8-1a1348451ee8"
      },
      "execution_count": null,
      "outputs": [
        {
          "output_type": "stream",
          "name": "stdout",
          "text": [
            "<class 'pandas.core.frame.DataFrame'>\n",
            "DatetimeIndex: 1177 entries, 2019-01-02 to 2023-09-05\n",
            "Data columns (total 6 columns):\n",
            " #   Column     Non-Null Count  Dtype  \n",
            "---  ------     --------------  -----  \n",
            " 0   Open       1177 non-null   float64\n",
            " 1   High       1177 non-null   float64\n",
            " 2   Low        1177 non-null   float64\n",
            " 3   Close      1177 non-null   float64\n",
            " 4   Adj Close  1177 non-null   float64\n",
            " 5   Volume     1177 non-null   int64  \n",
            "dtypes: float64(5), int64(1)\n",
            "memory usage: 64.4 KB\n"
          ]
        }
      ]
    },
    {
      "cell_type": "code",
      "source": [
        "# checking for any duplicate values\n",
        "data.duplicated().any()\n",
        "\n"
      ],
      "metadata": {
        "colab": {
          "base_uri": "https://localhost:8080/"
        },
        "id": "jcCBQZmPvWoC",
        "outputId": "41d4fb81-a5c6-4c4a-f355-e029f7ad2d5a"
      },
      "execution_count": null,
      "outputs": [
        {
          "output_type": "execute_result",
          "data": {
            "text/plain": [
              "False"
            ]
          },
          "metadata": {},
          "execution_count": 10
        }
      ]
    },
    {
      "cell_type": "code",
      "source": [
        "data[\"Close\"]=pd.to_numeric(data.Close,errors='coerce')\n"
      ],
      "metadata": {
        "id": "UeeW35g5vana"
      },
      "execution_count": null,
      "outputs": []
    },
    {
      "cell_type": "code",
      "source": [
        "data.isnull().sum().sum()"
      ],
      "metadata": {
        "colab": {
          "base_uri": "https://localhost:8080/"
        },
        "id": "IX_GZPDwvfTb",
        "outputId": "de98af36-acb8-463a-9f1d-8c5481f77b35"
      },
      "execution_count": null,
      "outputs": [
        {
          "output_type": "execute_result",
          "data": {
            "text/plain": [
              "0"
            ]
          },
          "metadata": {},
          "execution_count": 12
        }
      ]
    },
    {
      "cell_type": "code",
      "source": [
        "# Get the statistics of the data\n",
        "data.describe()\n",
        "\n"
      ],
      "metadata": {
        "colab": {
          "base_uri": "https://localhost:8080/",
          "height": 320
        },
        "id": "Te7q9X5CviFe",
        "outputId": "ab42baf6-eb21-491c-ebe5-44a414a46283"
      },
      "execution_count": null,
      "outputs": [
        {
          "output_type": "execute_result",
          "data": {
            "text/plain": [
              "              Open         High          Low        Close    Adj Close  \\\n",
              "count  1177.000000  1177.000000  1177.000000  1177.000000  1177.000000   \n",
              "mean     95.650744    96.759707    94.604685    95.707826    95.707826   \n",
              "std      29.114068    29.403226    28.773532    29.069253    29.069253   \n",
              "min      51.360001    52.500000    50.443501    51.273499    51.273499   \n",
              "25%      67.595497    68.216499    67.208504    67.595497    67.595497   \n",
              "50%      95.449997    96.930000    94.150002    95.599998    95.599998   \n",
              "75%     120.000000   121.080002   118.720001   119.900002   119.900002   \n",
              "max     151.250000   151.546494   148.899002   149.838501   149.838501   \n",
              "\n",
              "             Volume  \n",
              "count  1.177000e+03  \n",
              "mean   3.402900e+07  \n",
              "std    1.517561e+07  \n",
              "min    9.312000e+06  \n",
              "25%    2.445800e+07  \n",
              "50%    3.039330e+07  \n",
              "75%    3.826200e+07  \n",
              "max    1.331780e+08  "
            ],
            "text/html": [
              "\n",
              "  <div id=\"df-265e8ca6-4758-49b8-9f55-383e0e5edc74\" class=\"colab-df-container\">\n",
              "    <div>\n",
              "<style scoped>\n",
              "    .dataframe tbody tr th:only-of-type {\n",
              "        vertical-align: middle;\n",
              "    }\n",
              "\n",
              "    .dataframe tbody tr th {\n",
              "        vertical-align: top;\n",
              "    }\n",
              "\n",
              "    .dataframe thead th {\n",
              "        text-align: right;\n",
              "    }\n",
              "</style>\n",
              "<table border=\"1\" class=\"dataframe\">\n",
              "  <thead>\n",
              "    <tr style=\"text-align: right;\">\n",
              "      <th></th>\n",
              "      <th>Open</th>\n",
              "      <th>High</th>\n",
              "      <th>Low</th>\n",
              "      <th>Close</th>\n",
              "      <th>Adj Close</th>\n",
              "      <th>Volume</th>\n",
              "    </tr>\n",
              "  </thead>\n",
              "  <tbody>\n",
              "    <tr>\n",
              "      <th>count</th>\n",
              "      <td>1177.000000</td>\n",
              "      <td>1177.000000</td>\n",
              "      <td>1177.000000</td>\n",
              "      <td>1177.000000</td>\n",
              "      <td>1177.000000</td>\n",
              "      <td>1.177000e+03</td>\n",
              "    </tr>\n",
              "    <tr>\n",
              "      <th>mean</th>\n",
              "      <td>95.650744</td>\n",
              "      <td>96.759707</td>\n",
              "      <td>94.604685</td>\n",
              "      <td>95.707826</td>\n",
              "      <td>95.707826</td>\n",
              "      <td>3.402900e+07</td>\n",
              "    </tr>\n",
              "    <tr>\n",
              "      <th>std</th>\n",
              "      <td>29.114068</td>\n",
              "      <td>29.403226</td>\n",
              "      <td>28.773532</td>\n",
              "      <td>29.069253</td>\n",
              "      <td>29.069253</td>\n",
              "      <td>1.517561e+07</td>\n",
              "    </tr>\n",
              "    <tr>\n",
              "      <th>min</th>\n",
              "      <td>51.360001</td>\n",
              "      <td>52.500000</td>\n",
              "      <td>50.443501</td>\n",
              "      <td>51.273499</td>\n",
              "      <td>51.273499</td>\n",
              "      <td>9.312000e+06</td>\n",
              "    </tr>\n",
              "    <tr>\n",
              "      <th>25%</th>\n",
              "      <td>67.595497</td>\n",
              "      <td>68.216499</td>\n",
              "      <td>67.208504</td>\n",
              "      <td>67.595497</td>\n",
              "      <td>67.595497</td>\n",
              "      <td>2.445800e+07</td>\n",
              "    </tr>\n",
              "    <tr>\n",
              "      <th>50%</th>\n",
              "      <td>95.449997</td>\n",
              "      <td>96.930000</td>\n",
              "      <td>94.150002</td>\n",
              "      <td>95.599998</td>\n",
              "      <td>95.599998</td>\n",
              "      <td>3.039330e+07</td>\n",
              "    </tr>\n",
              "    <tr>\n",
              "      <th>75%</th>\n",
              "      <td>120.000000</td>\n",
              "      <td>121.080002</td>\n",
              "      <td>118.720001</td>\n",
              "      <td>119.900002</td>\n",
              "      <td>119.900002</td>\n",
              "      <td>3.826200e+07</td>\n",
              "    </tr>\n",
              "    <tr>\n",
              "      <th>max</th>\n",
              "      <td>151.250000</td>\n",
              "      <td>151.546494</td>\n",
              "      <td>148.899002</td>\n",
              "      <td>149.838501</td>\n",
              "      <td>149.838501</td>\n",
              "      <td>1.331780e+08</td>\n",
              "    </tr>\n",
              "  </tbody>\n",
              "</table>\n",
              "</div>\n",
              "    <div class=\"colab-df-buttons\">\n",
              "\n",
              "  <div class=\"colab-df-container\">\n",
              "    <button class=\"colab-df-convert\" onclick=\"convertToInteractive('df-265e8ca6-4758-49b8-9f55-383e0e5edc74')\"\n",
              "            title=\"Convert this dataframe to an interactive table.\"\n",
              "            style=\"display:none;\">\n",
              "\n",
              "  <svg xmlns=\"http://www.w3.org/2000/svg\" height=\"24px\" viewBox=\"0 -960 960 960\">\n",
              "    <path d=\"M120-120v-720h720v720H120Zm60-500h600v-160H180v160Zm220 220h160v-160H400v160Zm0 220h160v-160H400v160ZM180-400h160v-160H180v160Zm440 0h160v-160H620v160ZM180-180h160v-160H180v160Zm440 0h160v-160H620v160Z\"/>\n",
              "  </svg>\n",
              "    </button>\n",
              "\n",
              "  <style>\n",
              "    .colab-df-container {\n",
              "      display:flex;\n",
              "      gap: 12px;\n",
              "    }\n",
              "\n",
              "    .colab-df-convert {\n",
              "      background-color: #E8F0FE;\n",
              "      border: none;\n",
              "      border-radius: 50%;\n",
              "      cursor: pointer;\n",
              "      display: none;\n",
              "      fill: #1967D2;\n",
              "      height: 32px;\n",
              "      padding: 0 0 0 0;\n",
              "      width: 32px;\n",
              "    }\n",
              "\n",
              "    .colab-df-convert:hover {\n",
              "      background-color: #E2EBFA;\n",
              "      box-shadow: 0px 1px 2px rgba(60, 64, 67, 0.3), 0px 1px 3px 1px rgba(60, 64, 67, 0.15);\n",
              "      fill: #174EA6;\n",
              "    }\n",
              "\n",
              "    .colab-df-buttons div {\n",
              "      margin-bottom: 4px;\n",
              "    }\n",
              "\n",
              "    [theme=dark] .colab-df-convert {\n",
              "      background-color: #3B4455;\n",
              "      fill: #D2E3FC;\n",
              "    }\n",
              "\n",
              "    [theme=dark] .colab-df-convert:hover {\n",
              "      background-color: #434B5C;\n",
              "      box-shadow: 0px 1px 3px 1px rgba(0, 0, 0, 0.15);\n",
              "      filter: drop-shadow(0px 1px 2px rgba(0, 0, 0, 0.3));\n",
              "      fill: #FFFFFF;\n",
              "    }\n",
              "  </style>\n",
              "\n",
              "    <script>\n",
              "      const buttonEl =\n",
              "        document.querySelector('#df-265e8ca6-4758-49b8-9f55-383e0e5edc74 button.colab-df-convert');\n",
              "      buttonEl.style.display =\n",
              "        google.colab.kernel.accessAllowed ? 'block' : 'none';\n",
              "\n",
              "      async function convertToInteractive(key) {\n",
              "        const element = document.querySelector('#df-265e8ca6-4758-49b8-9f55-383e0e5edc74');\n",
              "        const dataTable =\n",
              "          await google.colab.kernel.invokeFunction('convertToInteractive',\n",
              "                                                    [key], {});\n",
              "        if (!dataTable) return;\n",
              "\n",
              "        const docLinkHtml = 'Like what you see? Visit the ' +\n",
              "          '<a target=\"_blank\" href=https://colab.research.google.com/notebooks/data_table.ipynb>data table notebook</a>'\n",
              "          + ' to learn more about interactive tables.';\n",
              "        element.innerHTML = '';\n",
              "        dataTable['output_type'] = 'display_data';\n",
              "        await google.colab.output.renderOutput(dataTable, element);\n",
              "        const docLink = document.createElement('div');\n",
              "        docLink.innerHTML = docLinkHtml;\n",
              "        element.appendChild(docLink);\n",
              "      }\n",
              "    </script>\n",
              "  </div>\n",
              "\n",
              "\n",
              "<div id=\"df-d1404832-3e91-4795-b063-9acffb7c1c48\">\n",
              "  <button class=\"colab-df-quickchart\" onclick=\"quickchart('df-d1404832-3e91-4795-b063-9acffb7c1c48')\"\n",
              "            title=\"Suggest charts.\"\n",
              "            style=\"display:none;\">\n",
              "\n",
              "<svg xmlns=\"http://www.w3.org/2000/svg\" height=\"24px\"viewBox=\"0 0 24 24\"\n",
              "     width=\"24px\">\n",
              "    <g>\n",
              "        <path d=\"M19 3H5c-1.1 0-2 .9-2 2v14c0 1.1.9 2 2 2h14c1.1 0 2-.9 2-2V5c0-1.1-.9-2-2-2zM9 17H7v-7h2v7zm4 0h-2V7h2v10zm4 0h-2v-4h2v4z\"/>\n",
              "    </g>\n",
              "</svg>\n",
              "  </button>\n",
              "\n",
              "<style>\n",
              "  .colab-df-quickchart {\n",
              "      --bg-color: #E8F0FE;\n",
              "      --fill-color: #1967D2;\n",
              "      --hover-bg-color: #E2EBFA;\n",
              "      --hover-fill-color: #174EA6;\n",
              "      --disabled-fill-color: #AAA;\n",
              "      --disabled-bg-color: #DDD;\n",
              "  }\n",
              "\n",
              "  [theme=dark] .colab-df-quickchart {\n",
              "      --bg-color: #3B4455;\n",
              "      --fill-color: #D2E3FC;\n",
              "      --hover-bg-color: #434B5C;\n",
              "      --hover-fill-color: #FFFFFF;\n",
              "      --disabled-bg-color: #3B4455;\n",
              "      --disabled-fill-color: #666;\n",
              "  }\n",
              "\n",
              "  .colab-df-quickchart {\n",
              "    background-color: var(--bg-color);\n",
              "    border: none;\n",
              "    border-radius: 50%;\n",
              "    cursor: pointer;\n",
              "    display: none;\n",
              "    fill: var(--fill-color);\n",
              "    height: 32px;\n",
              "    padding: 0;\n",
              "    width: 32px;\n",
              "  }\n",
              "\n",
              "  .colab-df-quickchart:hover {\n",
              "    background-color: var(--hover-bg-color);\n",
              "    box-shadow: 0 1px 2px rgba(60, 64, 67, 0.3), 0 1px 3px 1px rgba(60, 64, 67, 0.15);\n",
              "    fill: var(--button-hover-fill-color);\n",
              "  }\n",
              "\n",
              "  .colab-df-quickchart-complete:disabled,\n",
              "  .colab-df-quickchart-complete:disabled:hover {\n",
              "    background-color: var(--disabled-bg-color);\n",
              "    fill: var(--disabled-fill-color);\n",
              "    box-shadow: none;\n",
              "  }\n",
              "\n",
              "  .colab-df-spinner {\n",
              "    border: 2px solid var(--fill-color);\n",
              "    border-color: transparent;\n",
              "    border-bottom-color: var(--fill-color);\n",
              "    animation:\n",
              "      spin 1s steps(1) infinite;\n",
              "  }\n",
              "\n",
              "  @keyframes spin {\n",
              "    0% {\n",
              "      border-color: transparent;\n",
              "      border-bottom-color: var(--fill-color);\n",
              "      border-left-color: var(--fill-color);\n",
              "    }\n",
              "    20% {\n",
              "      border-color: transparent;\n",
              "      border-left-color: var(--fill-color);\n",
              "      border-top-color: var(--fill-color);\n",
              "    }\n",
              "    30% {\n",
              "      border-color: transparent;\n",
              "      border-left-color: var(--fill-color);\n",
              "      border-top-color: var(--fill-color);\n",
              "      border-right-color: var(--fill-color);\n",
              "    }\n",
              "    40% {\n",
              "      border-color: transparent;\n",
              "      border-right-color: var(--fill-color);\n",
              "      border-top-color: var(--fill-color);\n",
              "    }\n",
              "    60% {\n",
              "      border-color: transparent;\n",
              "      border-right-color: var(--fill-color);\n",
              "    }\n",
              "    80% {\n",
              "      border-color: transparent;\n",
              "      border-right-color: var(--fill-color);\n",
              "      border-bottom-color: var(--fill-color);\n",
              "    }\n",
              "    90% {\n",
              "      border-color: transparent;\n",
              "      border-bottom-color: var(--fill-color);\n",
              "    }\n",
              "  }\n",
              "</style>\n",
              "\n",
              "  <script>\n",
              "    async function quickchart(key) {\n",
              "      const quickchartButtonEl =\n",
              "        document.querySelector('#' + key + ' button');\n",
              "      quickchartButtonEl.disabled = true;  // To prevent multiple clicks.\n",
              "      quickchartButtonEl.classList.add('colab-df-spinner');\n",
              "      try {\n",
              "        const charts = await google.colab.kernel.invokeFunction(\n",
              "            'suggestCharts', [key], {});\n",
              "      } catch (error) {\n",
              "        console.error('Error during call to suggestCharts:', error);\n",
              "      }\n",
              "      quickchartButtonEl.classList.remove('colab-df-spinner');\n",
              "      quickchartButtonEl.classList.add('colab-df-quickchart-complete');\n",
              "    }\n",
              "    (() => {\n",
              "      let quickchartButtonEl =\n",
              "        document.querySelector('#df-d1404832-3e91-4795-b063-9acffb7c1c48 button');\n",
              "      quickchartButtonEl.style.display =\n",
              "        google.colab.kernel.accessAllowed ? 'block' : 'none';\n",
              "    })();\n",
              "  </script>\n",
              "</div>\n",
              "    </div>\n",
              "  </div>\n"
            ]
          },
          "metadata": {},
          "execution_count": 13
        }
      ]
    },
    {
      "cell_type": "code",
      "source": [
        "# plot the 'Close' feature\n",
        "plt.plot(data.index, data['Close'], color = 'green', label = 'Close')\n",
        "plt.show()\n",
        "\n"
      ],
      "metadata": {
        "colab": {
          "base_uri": "https://localhost:8080/",
          "height": 430
        },
        "id": "K3q92FHZvmdn",
        "outputId": "3f675ed6-7fff-4b0b-d7a0-4a8a6069caf6"
      },
      "execution_count": null,
      "outputs": [
        {
          "output_type": "display_data",
          "data": {
            "text/plain": [
              "<Figure size 640x480 with 1 Axes>"
            ],
            "image/png": "[encoded data removed]"
          },
          "metadata": {}
        }
      ]
    },
    {
      "cell_type": "code",
      "source": [
        "# saving 'Close' feature in a variable name dataV1, since we only need that\n",
        "dataV1 = data.iloc[:,3:4]\n",
        "dataV1 = dataV1.values\n",
        "dataV1.shape"
      ],
      "metadata": {
        "colab": {
          "base_uri": "https://localhost:8080/"
        },
        "id": "BPq2ug82vsjc",
        "outputId": "fa8fda68-231c-44c7-9065-a2d610e765d7"
      },
      "execution_count": null,
      "outputs": [
        {
          "output_type": "execute_result",
          "data": {
            "text/plain": [
              "(1177, 1)"
            ]
          },
          "metadata": {},
          "execution_count": 15
        }
      ]
    },
    {
      "cell_type": "code",
      "source": [
        "from sklearn.preprocessing import MinMaxScaler\n",
        "\n",
        "# normalizing the data\n",
        "Scaler = MinMaxScaler(feature_range=(0,1))\n",
        "dataV1 = Scaler.fit_transform(dataV1)\n",
        "dataV1.shape\n",
        "\n"
      ],
      "metadata": {
        "colab": {
          "base_uri": "https://localhost:8080/"
        },
        "id": "9ka3DAbvvvrX",
        "outputId": "3d320c96-7cdf-488a-d93b-25a2eaf4d476"
      },
      "execution_count": null,
      "outputs": [
        {
          "output_type": "execute_result",
          "data": {
            "text/plain": [
              "(1177, 1)"
            ]
          },
          "metadata": {},
          "execution_count": 16
        }
      ]
    },
    {
      "cell_type": "code",
      "source": [
        "# declaring feature length\n",
        "feature_length = 100\n",
        "\n"
      ],
      "metadata": {
        "id": "A84ma-Q0vz5H"
      },
      "execution_count": null,
      "outputs": []
    },
    {
      "cell_type": "code",
      "source": [
        "# Function to create x and y data\n",
        "def Create_Features_and_Targets(data, feature_length):\n",
        "  X = list()\n",
        "  Y = list()\n",
        "  for i in range(len(data) - feature_length -1):\n",
        "    X.append(data[i:(i + feature_length), 0])\n",
        "    Y.append(data[i + feature_length, 0])\n",
        "  X = np.array(X)\n",
        "  Y = np.array(Y)\n",
        "  return X,Y\n",
        "\n"
      ],
      "metadata": {
        "id": "3B2kwhFev3St"
      },
      "execution_count": null,
      "outputs": []
    },
    {
      "cell_type": "code",
      "source": [
        "X_train, y_train = Create_Features_and_Targets(dataV1, feature_length)\n",
        "\n"
      ],
      "metadata": {
        "id": "Ef95KqaEv9Qx"
      },
      "execution_count": null,
      "outputs": []
    },
    {
      "cell_type": "code",
      "source": [
        "# Making data 3 dimensional\n",
        "X_train = np.reshape(X_train,(X_train.shape[0],X_train.shape[1],1))\n",
        "\n"
      ],
      "metadata": {
        "id": "FMBodlS_wAZZ"
      },
      "execution_count": null,
      "outputs": []
    },
    {
      "cell_type": "code",
      "source": [
        "X_train.shape, y_train.shape\n",
        "\n"
      ],
      "metadata": {
        "colab": {
          "base_uri": "https://localhost:8080/"
        },
        "id": "sxrP2YFfwHZ1",
        "outputId": "97635137-3cf0-456c-918b-da656c2d56d3"
      },
      "execution_count": null,
      "outputs": [
        {
          "output_type": "execute_result",
          "data": {
            "text/plain": [
              "((1076, 100, 1), (1076,))"
            ]
          },
          "metadata": {},
          "execution_count": 22
        }
      ]
    },
    {
      "cell_type": "code",
      "source": [
        "from tensorflow.keras.models import Sequential\n",
        "from tensorflow.keras.layers import Dense , Dropout , LSTM\n",
        "\n"
      ],
      "metadata": {
        "id": "89Ce9zmPwMq3"
      },
      "execution_count": null,
      "outputs": []
    },
    {
      "cell_type": "code",
      "source": [
        "# model\n",
        "model = Sequential([\n",
        "    LSTM(100, return_sequences = True, input_shape =(X_train.shape[1],1)),\n",
        "    Dropout(0.3),\n",
        "\n",
        "    LSTM(100, return_sequences = False),\n",
        "    Dropout(0.3),\n",
        "    Dense(1),\n",
        "])\n",
        "model.compile(optimizer='adam',loss=\"mean_squared_error\")\n",
        "\n"
      ],
      "metadata": {
        "id": "lAuNM6aawQa-"
      },
      "execution_count": null,
      "outputs": []
    },
    {
      "cell_type": "code",
      "source": [
        "model.summary()"
      ],
      "metadata": {
        "colab": {
          "base_uri": "https://localhost:8080/"
        },
        "id": "jo6tOYjDwVRD",
        "outputId": "c37a45cd-bb03-4567-ee69-0f07d4bb5be2"
      },
      "execution_count": null,
      "outputs": [
        {
          "output_type": "stream",
          "name": "stdout",
          "text": [
            "Model: \"sequential\"\n",
            "_________________________________________________________________\n",
            " Layer (type)                Output Shape              Param #   \n",
            "=================================================================\n",
            " lstm (LSTM)                 (None, 100, 100)          40800     \n",
            "                                                                 \n",
            " dropout (Dropout)           (None, 100, 100)          0         \n",
            "                                                                 \n",
            " lstm_1 (LSTM)               (None, 100)               80400     \n",
            "                                                                 \n",
            " dropout_1 (Dropout)         (None, 100)               0         \n",
            "                                                                 \n",
            " dense (Dense)               (None, 1)                 101       \n",
            "                                                                 \n",
            "=================================================================\n",
            "Total params: 121,301\n",
            "Trainable params: 121,301\n",
            "Non-trainable params: 0\n",
            "_________________________________________________________________\n"
          ]
        }
      ]
    },
    {
      "cell_type": "code",
      "source": [
        "# Training the model\n",
        "history = model.fit(\n",
        "    X_train,\n",
        "    y_train,\n",
        "    epochs = 100,\n",
        "    batch_size = 12,\n",
        "    verbose=1,\n",
        ")\n",
        "\n"
      ],
      "metadata": {
        "colab": {
          "base_uri": "https://localhost:8080/"
        },
        "id": "HZFSHOaRwav0",
        "outputId": "bd5b6af7-5e76-4f1e-c166-c2c29d789006"
      },
      "execution_count": null,
      "outputs": [
        {
          "output_type": "stream",
          "name": "stdout",
          "text": [
            "Epoch 1/100\n",
            "90/90 [==============================] - 15s 113ms/step - loss: 0.0159\n",
            "Epoch 2/100\n",
            "90/90 [==============================] - 11s 118ms/step - loss: 0.0041\n",
            "Epoch 3/100\n",
            "90/90 [==============================] - 11s 121ms/step - loss: 0.0041\n",
            "Epoch 4/100\n",
            "90/90 [==============================] - 11s 121ms/step - loss: 0.0040\n",
            "Epoch 5/100\n",
            "90/90 [==============================] - 12s 131ms/step - loss: 0.0038\n",
            "Epoch 6/100\n",
            "90/90 [==============================] - 11s 122ms/step - loss: 0.0036\n",
            "Epoch 7/100\n",
            "90/90 [==============================] - 11s 121ms/step - loss: 0.0038\n",
            "Epoch 8/100\n",
            "90/90 [==============================] - 10s 108ms/step - loss: 0.0031\n",
            "Epoch 9/100\n",
            "90/90 [==============================] - 11s 121ms/step - loss: 0.0041\n",
            "Epoch 10/100\n",
            "90/90 [==============================] - 11s 121ms/step - loss: 0.0035\n",
            "Epoch 11/100\n",
            "90/90 [==============================] - 11s 121ms/step - loss: 0.0030\n",
            "Epoch 12/100\n",
            "90/90 [==============================] - 11s 121ms/step - loss: 0.0030\n",
            "Epoch 13/100\n",
            "90/90 [==============================] - 11s 121ms/step - loss: 0.0031\n",
            "Epoch 14/100\n",
            "90/90 [==============================] - 10s 113ms/step - loss: 0.0025\n",
            "Epoch 15/100\n",
            "90/90 [==============================] - 11s 116ms/step - loss: 0.0026\n",
            "Epoch 16/100\n",
            "90/90 [==============================] - 11s 122ms/step - loss: 0.0026\n",
            "Epoch 17/100\n",
            "90/90 [==============================] - 11s 124ms/step - loss: 0.0026\n",
            "Epoch 18/100\n",
            "90/90 [==============================] - 11s 119ms/step - loss: 0.0025\n",
            "Epoch 19/100\n",
            "90/90 [==============================] - 11s 117ms/step - loss: 0.0021\n",
            "Epoch 20/100\n",
            "90/90 [==============================] - 11s 117ms/step - loss: 0.0022\n",
            "Epoch 21/100\n",
            "90/90 [==============================] - 11s 117ms/step - loss: 0.0022\n",
            "Epoch 22/100\n",
            "90/90 [==============================] - 10s 113ms/step - loss: 0.0022\n",
            "Epoch 23/100\n",
            "90/90 [==============================] - 10s 113ms/step - loss: 0.0020\n",
            "Epoch 24/100\n",
            "90/90 [==============================] - 10s 116ms/step - loss: 0.0020\n",
            "Epoch 25/100\n",
            "90/90 [==============================] - 11s 117ms/step - loss: 0.0019\n",
            "Epoch 26/100\n",
            "90/90 [==============================] - 11s 117ms/step - loss: 0.0021\n",
            "Epoch 27/100\n",
            "90/90 [==============================] - 11s 117ms/step - loss: 0.0020\n",
            "Epoch 28/100\n",
            "90/90 [==============================] - 11s 118ms/step - loss: 0.0017\n",
            "Epoch 29/100\n",
            "90/90 [==============================] - 11s 126ms/step - loss: 0.0021\n",
            "Epoch 30/100\n",
            "90/90 [==============================] - 11s 118ms/step - loss: 0.0018\n",
            "Epoch 31/100\n",
            "90/90 [==============================] - 10s 112ms/step - loss: 0.0019\n",
            "Epoch 32/100\n",
            "90/90 [==============================] - 10s 113ms/step - loss: 0.0018\n",
            "Epoch 33/100\n",
            "90/90 [==============================] - 10s 117ms/step - loss: 0.0020\n",
            "Epoch 34/100\n",
            "90/90 [==============================] - 11s 117ms/step - loss: 0.0018\n",
            "Epoch 35/100\n",
            "90/90 [==============================] - 11s 117ms/step - loss: 0.0017\n",
            "Epoch 36/100\n",
            "90/90 [==============================] - 10s 117ms/step - loss: 0.0016\n",
            "Epoch 37/100\n",
            "90/90 [==============================] - 11s 117ms/step - loss: 0.0016\n",
            "Epoch 38/100\n",
            "90/90 [==============================] - 11s 117ms/step - loss: 0.0017\n",
            "Epoch 39/100\n",
            "90/90 [==============================] - 10s 116ms/step - loss: 0.0018\n",
            "Epoch 40/100\n",
            "90/90 [==============================] - 10s 110ms/step - loss: 0.0020\n",
            "Epoch 41/100\n",
            "90/90 [==============================] - 10s 115ms/step - loss: 0.0015\n",
            "Epoch 42/100\n",
            "90/90 [==============================] - 11s 117ms/step - loss: 0.0017\n",
            "Epoch 43/100\n",
            "90/90 [==============================] - 10s 117ms/step - loss: 0.0017\n",
            "Epoch 44/100\n",
            "90/90 [==============================] - 11s 117ms/step - loss: 0.0017\n",
            "Epoch 45/100\n",
            "90/90 [==============================] - 11s 117ms/step - loss: 0.0014\n",
            "Epoch 46/100\n",
            "90/90 [==============================] - 11s 117ms/step - loss: 0.0015\n",
            "Epoch 47/100\n",
            "90/90 [==============================] - 10s 117ms/step - loss: 0.0015\n",
            "Epoch 48/100\n",
            "90/90 [==============================] - 11s 117ms/step - loss: 0.0014\n",
            "Epoch 49/100\n",
            "90/90 [==============================] - 10s 110ms/step - loss: 0.0015\n",
            "Epoch 50/100\n",
            "90/90 [==============================] - 11s 116ms/step - loss: 0.0015\n",
            "Epoch 51/100\n",
            "90/90 [==============================] - 10s 116ms/step - loss: 0.0014\n",
            "Epoch 52/100\n",
            "90/90 [==============================] - 11s 125ms/step - loss: 0.0016\n",
            "Epoch 53/100\n",
            "90/90 [==============================] - 10s 117ms/step - loss: 0.0015\n",
            "Epoch 54/100\n",
            "90/90 [==============================] - 10s 116ms/step - loss: 0.0013\n",
            "Epoch 55/100\n",
            "90/90 [==============================] - 10s 116ms/step - loss: 0.0014\n",
            "Epoch 56/100\n",
            "90/90 [==============================] - 11s 117ms/step - loss: 0.0013\n",
            "Epoch 57/100\n",
            "90/90 [==============================] - 10s 114ms/step - loss: 0.0014\n",
            "Epoch 58/100\n",
            "90/90 [==============================] - 10s 110ms/step - loss: 0.0013\n",
            "Epoch 59/100\n",
            "90/90 [==============================] - 11s 117ms/step - loss: 0.0013\n",
            "Epoch 60/100\n",
            "90/90 [==============================] - 10s 116ms/step - loss: 0.0013\n",
            "Epoch 61/100\n",
            "90/90 [==============================] - 11s 117ms/step - loss: 0.0012\n",
            "Epoch 62/100\n",
            "90/90 [==============================] - 10s 117ms/step - loss: 0.0013\n",
            "Epoch 63/100\n",
            "90/90 [==============================] - 11s 117ms/step - loss: 0.0014\n",
            "Epoch 64/100\n",
            "90/90 [==============================] - 11s 118ms/step - loss: 0.0013\n",
            "Epoch 65/100\n",
            "90/90 [==============================] - 11s 118ms/step - loss: 0.0013\n",
            "Epoch 66/100\n",
            "90/90 [==============================] - 10s 115ms/step - loss: 0.0013\n",
            "Epoch 67/100\n",
            "90/90 [==============================] - 10s 110ms/step - loss: 0.0012\n",
            "Epoch 68/100\n",
            "90/90 [==============================] - 11s 117ms/step - loss: 0.0013\n",
            "Epoch 69/100\n",
            "90/90 [==============================] - 11s 118ms/step - loss: 0.0014\n",
            "Epoch 70/100\n",
            "90/90 [==============================] - 11s 118ms/step - loss: 0.0014\n",
            "Epoch 71/100\n",
            "90/90 [==============================] - 11s 118ms/step - loss: 0.0011\n",
            "Epoch 72/100\n",
            "90/90 [==============================] - 11s 118ms/step - loss: 0.0013\n",
            "Epoch 73/100\n",
            "90/90 [==============================] - 11s 117ms/step - loss: 0.0012\n",
            "Epoch 74/100\n",
            "90/90 [==============================] - 11s 125ms/step - loss: 0.0013\n",
            "Epoch 75/100\n",
            "90/90 [==============================] - 10s 113ms/step - loss: 0.0014\n",
            "Epoch 76/100\n",
            "90/90 [==============================] - 10s 113ms/step - loss: 0.0014\n",
            "Epoch 77/100\n",
            "90/90 [==============================] - 11s 117ms/step - loss: 0.0011\n",
            "Epoch 78/100\n",
            "90/90 [==============================] - 11s 117ms/step - loss: 0.0013\n",
            "Epoch 79/100\n",
            "90/90 [==============================] - 11s 117ms/step - loss: 0.0013\n",
            "Epoch 80/100\n",
            "90/90 [==============================] - 11s 117ms/step - loss: 0.0011\n",
            "Epoch 81/100\n",
            "90/90 [==============================] - 11s 117ms/step - loss: 0.0013\n",
            "Epoch 82/100\n",
            "90/90 [==============================] - 11s 117ms/step - loss: 0.0012\n",
            "Epoch 83/100\n",
            "90/90 [==============================] - 10s 117ms/step - loss: 0.0012\n",
            "Epoch 84/100\n",
            "90/90 [==============================] - 10s 113ms/step - loss: 0.0012\n",
            "Epoch 85/100\n",
            "90/90 [==============================] - 10s 112ms/step - loss: 0.0012\n",
            "Epoch 86/100\n",
            "90/90 [==============================] - 11s 117ms/step - loss: 0.0012\n",
            "Epoch 87/100\n",
            "90/90 [==============================] - 11s 118ms/step - loss: 0.0011\n",
            "Epoch 88/100\n",
            "90/90 [==============================] - 11s 118ms/step - loss: 0.0012\n",
            "Epoch 89/100\n",
            "90/90 [==============================] - 11s 119ms/step - loss: 0.0012\n",
            "Epoch 90/100\n",
            "90/90 [==============================] - 11s 118ms/step - loss: 0.0012\n",
            "Epoch 91/100\n",
            "90/90 [==============================] - 11s 118ms/step - loss: 0.0012\n",
            "Epoch 92/100\n",
            "90/90 [==============================] - 11s 118ms/step - loss: 0.0012\n",
            "Epoch 93/100\n",
            "90/90 [==============================] - 10s 117ms/step - loss: 0.0011\n",
            "Epoch 94/100\n",
            "90/90 [==============================] - 10s 110ms/step - loss: 0.0011\n",
            "Epoch 95/100\n",
            "90/90 [==============================] - 11s 118ms/step - loss: 0.0011\n",
            "Epoch 96/100\n",
            "90/90 [==============================] - 11s 125ms/step - loss: 0.0012\n",
            "Epoch 97/100\n",
            "90/90 [==============================] - 11s 119ms/step - loss: 0.0012\n",
            "Epoch 98/100\n",
            "90/90 [==============================] - 11s 118ms/step - loss: 0.0012\n",
            "Epoch 99/100\n",
            "90/90 [==============================] - 11s 119ms/step - loss: 0.0011\n",
            "Epoch 100/100\n",
            "90/90 [==============================] - 11s 118ms/step - loss: 0.0011\n"
          ]
        }
      ]
    },
    {
      "cell_type": "code",
      "source": [
        "# plotting the loss from the training model\n",
        "plt.plot(history.history['loss'])\n",
        "plt.title('Training model loss')\n",
        "plt.ylabel('loss')\n",
        "plt.xlabel('epoch')\n",
        "plt.show()\n",
        "\n"
      ],
      "metadata": {
        "colab": {
          "base_uri": "https://localhost:8080/",
          "height": 472
        },
        "id": "cTsdrbHo1DkN",
        "outputId": "188ad46d-8f2a-4686-9c81-e9bb345d6ef8"
      },
      "execution_count": null,
      "outputs": [
        {
          "output_type": "display_data",
          "data": {
            "text/plain": [
              "<Figure size 640x480 with 1 Axes>"
            ],
            "image/png": "[encoded data removed]"
          },
          "metadata": {}
        }
      ]
    },
    {
      "cell_type": "code",
      "source": [
        "testData = data.iloc[:,3:4] # Get 'Close' feature\n",
        "y_real = testData.iloc[feature_length+1:,0:].values # Actual Stock values\n",
        "x_test = testData.iloc[:,0:].values  # values from whole data to test\n",
        "y_real.shape, x_test.shape\n",
        "\n"
      ],
      "metadata": {
        "colab": {
          "base_uri": "https://localhost:8080/"
        },
        "id": "KTafHDm_1K6-",
        "outputId": "b444a9fa-7105-4dae-fe8e-bde0ca044929"
      },
      "execution_count": null,
      "outputs": [
        {
          "output_type": "execute_result",
          "data": {
            "text/plain": [
              "((1076, 1), (1177, 1))"
            ]
          },
          "metadata": {},
          "execution_count": 28
        }
      ]
    },
    {
      "cell_type": "code",
      "source": [
        "# normalizing the Data using Scaler.transform function\n",
        "x_test = Scaler.transform(x_test)\n",
        "x_test.shape"
      ],
      "metadata": {
        "colab": {
          "base_uri": "https://localhost:8080/"
        },
        "id": "2ccQudmU1PnQ",
        "outputId": "ea78bbb9-daf5-4f3f-8de6-cd45a5b49895"
      },
      "execution_count": null,
      "outputs": [
        {
          "output_type": "execute_result",
          "data": {
            "text/plain": [
              "(1177, 1)"
            ]
          },
          "metadata": {},
          "execution_count": 29
        }
      ]
    },
    {
      "cell_type": "code",
      "source": [
        "x_test, y_test = Create_Features_and_Targets(x_test, feature_length)\n",
        "x_test = np.reshape(x_test,(x_test.shape[0],x_test.shape[1],1)) # Making data 3 dimensional\n",
        "x_test.shape\n",
        "\n"
      ],
      "metadata": {
        "colab": {
          "base_uri": "https://localhost:8080/"
        },
        "id": "SkbqkGMG1UzO",
        "outputId": "a78e8873-a336-414a-caa5-fadf6017b347"
      },
      "execution_count": null,
      "outputs": [
        {
          "output_type": "execute_result",
          "data": {
            "text/plain": [
              "(1076, 100, 1)"
            ]
          },
          "metadata": {},
          "execution_count": 30
        }
      ]
    },
    {
      "cell_type": "code",
      "source": [
        "# making predictions\n",
        "y_pred = model.predict(x_test)\n",
        "\n"
      ],
      "metadata": {
        "colab": {
          "base_uri": "https://localhost:8080/"
        },
        "id": "KcIMhu0P1Y4_",
        "outputId": "552d3818-625c-427e-8b51-2f58085f2835"
      },
      "execution_count": null,
      "outputs": [
        {
          "output_type": "stream",
          "name": "stdout",
          "text": [
            "34/34 [==============================] - 2s 47ms/step\n"
          ]
        }
      ]
    },
    {
      "cell_type": "code",
      "source": [
        "predicted_price = Scaler.inverse_transform(y_pred)\n",
        "\n"
      ],
      "metadata": {
        "id": "0xePmD_41cZ6"
      },
      "execution_count": null,
      "outputs": []
    },
    {
      "cell_type": "code",
      "source": [
        "# plotting the Actual Stock Price and the Predicted Stock Price\n",
        "plt.plot(y_real, color = 'red', label = 'Actual')\n",
        "plt.plot(predicted_price, color = 'green', label = 'Predicted')\n",
        "\n",
        "plt.xlabel('Time')\n",
        "plt.ylabel('Stock')\n",
        "plt.legend()\n",
        "plt.show()\n"
      ],
      "metadata": {
        "colab": {
          "base_uri": "https://localhost:8080/",
          "height": 449
        },
        "id": "rB07jV7t1gND",
        "outputId": "3a886752-09c1-45d8-a1c2-72d2a8390d41"
      },
      "execution_count": null,
      "outputs": [
        {
          "output_type": "display_data",
          "data": {
            "text/plain": [
              "<Figure size 640x480 with 1 Axes>"
            ],
            "image/png": "[encoded data removed]"
          },
          "metadata": {}
        }
      ]
    },
    {
      "cell_type": "code",
      "source": [
        "def predict_given_date(data, date, feature_length):\n",
        "  if date not in data.index:\n",
        "    data.loc[pd.Timestamp(date)] = 0\n",
        "  idx = data.index.get_loc(date)\n",
        "  close_col = data.iloc[:,3:4]\n",
        "  close_col = close_col.iloc[idx - feature_length : idx,:].values\n",
        "  close_col = np.expand_dims(Scaler.transform(close_col) , axis = 0)\n",
        "  Prediction = model.predict(close_col)\n",
        "  Prediction = Scaler.inverse_transform(Prediction)\n",
        "  return Prediction\n",
        "\n"
      ],
      "metadata": {
        "id": "Kzpf43A31pFP"
      },
      "execution_count": null,
      "outputs": []
    },
    {
      "cell_type": "code",
      "source": [
        "predict_given_date(data, '2023-09-01', feature_length)\n"
      ],
      "metadata": {
        "colab": {
          "base_uri": "https://localhost:8080/"
        },
        "id": "fyNp5lzK1s1S",
        "outputId": "5d0b0a25-9cb5-4905-bb84-1c25dcb2294e"
      },
      "execution_count": null,
      "outputs": [
        {
          "output_type": "stream",
          "name": "stdout",
          "text": [
            "1/1 [==============================] - 0s 58ms/step\n"
          ]
        },
        {
          "output_type": "execute_result",
          "data": {
            "text/plain": [
              "array([[134.35078]], dtype=float32)"
            ]
          },
          "metadata": {},
          "execution_count": 47
        }
      ]
    },
    {
      "cell_type": "code",
      "source": [
        "l = data.index.get_loc('2023-09-01')\n",
        "data.iloc[l: l+1,:]['Close']"
      ],
      "metadata": {
        "colab": {
          "base_uri": "https://localhost:8080/"
        },
        "id": "PX1bMXY218xc",
        "outputId": "dfbc43bf-38ce-4f57-9198-eb483b74ba76"
      },
      "execution_count": null,
      "outputs": [
        {
          "output_type": "execute_result",
          "data": {
            "text/plain": [
              "Date\n",
              "2023-09-01    135.660004\n",
              "Name: Close, dtype: float64"
            ]
          },
          "metadata": {},
          "execution_count": 45
        }
      ]
    },
    {
      "cell_type": "code",
      "source": [
        "data\n"
      ],
      "metadata": {
        "colab": {
          "base_uri": "https://localhost:8080/",
          "height": 628
        },
        "id": "ZvXB5yk13SeB",
        "outputId": "4885e412-171f-4f2e-a9c2-66cb79272882"
      },
      "execution_count": null,
      "outputs": [
        {
          "output_type": "execute_result",
          "data": {
            "text/plain": [
              "                  Open        High         Low       Close   Adj Close  \\\n",
              "Date                                                                     \n",
              "2019-01-02   51.360001   53.039501   51.264000   52.734001   52.734001   \n",
              "2019-01-03   52.533501   53.313000   51.118500   51.273499   51.273499   \n",
              "2019-01-04   52.127998   54.000000   51.842999   53.903500   53.903500   \n",
              "2019-01-07   54.048500   54.134998   53.132000   53.796001   53.796001   \n",
              "2019-01-08   54.299999   54.667500   53.417500   54.268501   54.268501   \n",
              "...                ...         ...         ...         ...         ...   \n",
              "2023-08-30  134.779999  136.279999  134.070007  135.880005  135.880005   \n",
              "2023-08-31  136.009995  138.000000  135.789993  136.169998  136.169998   \n",
              "2023-09-01  137.460007  137.460007  134.850006  135.660004  135.660004   \n",
              "2023-09-05  135.440002  136.419998  134.580093  136.130005  136.130005   \n",
              "2023-01-01    0.000000    0.000000    0.000000    0.000000    0.000000   \n",
              "\n",
              "              Volume  \n",
              "Date                  \n",
              "2019-01-02  31868000  \n",
              "2019-01-03  41960000  \n",
              "2019-01-04  46022000  \n",
              "2019-01-07  47446000  \n",
              "2019-01-08  35414000  \n",
              "...              ...  \n",
              "2023-08-30  28315800  \n",
              "2023-08-31  30053800  \n",
              "2023-09-01  21524600  \n",
              "2023-09-05  12153226  \n",
              "2023-01-01         0  \n",
              "\n",
              "[1178 rows x 6 columns]"
            ],
            "text/html": [
              "\n",
              "  <div id=\"df-676de632-f7ad-4dcd-aa35-9ea3b19dc436\" class=\"colab-df-container\">\n",
              "    <div>\n",
              "<style scoped>\n",
              "    .dataframe tbody tr th:only-of-type {\n",
              "        vertical-align: middle;\n",
              "    }\n",
              "\n",
              "    .dataframe tbody tr th {\n",
              "        vertical-align: top;\n",
              "    }\n",
              "\n",
              "    .dataframe thead th {\n",
              "        text-align: right;\n",
              "    }\n",
              "</style>\n",
              "<table border=\"1\" class=\"dataframe\">\n",
              "  <thead>\n",
              "    <tr style=\"text-align: right;\">\n",
              "      <th></th>\n",
              "      <th>Open</th>\n",
              "      <th>High</th>\n",
              "      <th>Low</th>\n",
              "      <th>Close</th>\n",
              "      <th>Adj Close</th>\n",
              "      <th>Volume</th>\n",
              "    </tr>\n",
              "    <tr>\n",
              "      <th>Date</th>\n",
              "      <th></th>\n",
              "      <th></th>\n",
              "      <th></th>\n",
              "      <th></th>\n",
              "      <th></th>\n",
              "      <th></th>\n",
              "    </tr>\n",
              "  </thead>\n",
              "  <tbody>\n",
              "    <tr>\n",
              "      <th>2019-01-02</th>\n",
              "      <td>51.360001</td>\n",
              "      <td>53.039501</td>\n",
              "      <td>51.264000</td>\n",
              "      <td>52.734001</td>\n",
              "      <td>52.734001</td>\n",
              "      <td>31868000</td>\n",
              "    </tr>\n",
              "    <tr>\n",
              "      <th>2019-01-03</th>\n",
              "      <td>52.533501</td>\n",
              "      <td>53.313000</td>\n",
              "      <td>51.118500</td>\n",
              "      <td>51.273499</td>\n",
              "      <td>51.273499</td>\n",
              "      <td>41960000</td>\n",
              "    </tr>\n",
              "    <tr>\n",
              "      <th>2019-01-04</th>\n",
              "      <td>52.127998</td>\n",
              "      <td>54.000000</td>\n",
              "      <td>51.842999</td>\n",
              "      <td>53.903500</td>\n",
              "      <td>53.903500</td>\n",
              "      <td>46022000</td>\n",
              "    </tr>\n",
              "    <tr>\n",
              "      <th>2019-01-07</th>\n",
              "      <td>54.048500</td>\n",
              "      <td>54.134998</td>\n",
              "      <td>53.132000</td>\n",
              "      <td>53.796001</td>\n",
              "      <td>53.796001</td>\n",
              "      <td>47446000</td>\n",
              "    </tr>\n",
              "    <tr>\n",
              "      <th>2019-01-08</th>\n",
              "      <td>54.299999</td>\n",
              "      <td>54.667500</td>\n",
              "      <td>53.417500</td>\n",
              "      <td>54.268501</td>\n",
              "      <td>54.268501</td>\n",
              "      <td>35414000</td>\n",
              "    </tr>\n",
              "    <tr>\n",
              "      <th>...</th>\n",
              "      <td>...</td>\n",
              "      <td>...</td>\n",
              "      <td>...</td>\n",
              "      <td>...</td>\n",
              "      <td>...</td>\n",
              "      <td>...</td>\n",
              "    </tr>\n",
              "    <tr>\n",
              "      <th>2023-08-30</th>\n",
              "      <td>134.779999</td>\n",
              "      <td>136.279999</td>\n",
              "      <td>134.070007</td>\n",
              "      <td>135.880005</td>\n",
              "      <td>135.880005</td>\n",
              "      <td>28315800</td>\n",
              "    </tr>\n",
              "    <tr>\n",
              "      <th>2023-08-31</th>\n",
              "      <td>136.009995</td>\n",
              "      <td>138.000000</td>\n",
              "      <td>135.789993</td>\n",
              "      <td>136.169998</td>\n",
              "      <td>136.169998</td>\n",
              "      <td>30053800</td>\n",
              "    </tr>\n",
              "    <tr>\n",
              "      <th>2023-09-01</th>\n",
              "      <td>137.460007</td>\n",
              "      <td>137.460007</td>\n",
              "      <td>134.850006</td>\n",
              "      <td>135.660004</td>\n",
              "      <td>135.660004</td>\n",
              "      <td>21524600</td>\n",
              "    </tr>\n",
              "    <tr>\n",
              "      <th>2023-09-05</th>\n",
              "      <td>135.440002</td>\n",
              "      <td>136.419998</td>\n",
              "      <td>134.580093</td>\n",
              "      <td>136.130005</td>\n",
              "      <td>136.130005</td>\n",
              "      <td>12153226</td>\n",
              "    </tr>\n",
              "    <tr>\n",
              "      <th>2023-01-01</th>\n",
              "      <td>0.000000</td>\n",
              "      <td>0.000000</td>\n",
              "      <td>0.000000</td>\n",
              "      <td>0.000000</td>\n",
              "      <td>0.000000</td>\n",
              "      <td>0</td>\n",
              "    </tr>\n",
              "  </tbody>\n",
              "</table>\n",
              "<p>1178 rows × 6 columns</p>\n",
              "</div>\n",
              "    <div class=\"colab-df-buttons\">\n",
              "\n",
              "  <div class=\"colab-df-container\">\n",
              "    <button class=\"colab-df-convert\" onclick=\"convertToInteractive('df-676de632-f7ad-4dcd-aa35-9ea3b19dc436')\"\n",
              "            title=\"Convert this dataframe to an interactive table.\"\n",
              "            style=\"display:none;\">\n",
              "\n",
              "  <svg xmlns=\"http://www.w3.org/2000/svg\" height=\"24px\" viewBox=\"0 -960 960 960\">\n",
              "    <path d=\"M120-120v-720h720v720H120Zm60-500h600v-160H180v160Zm220 220h160v-160H400v160Zm0 220h160v-160H400v160ZM180-400h160v-160H180v160Zm440 0h160v-160H620v160ZM180-180h160v-160H180v160Zm440 0h160v-160H620v160Z\"/>\n",
              "  </svg>\n",
              "    </button>\n",
              "\n",
              "  <style>\n",
              "    .colab-df-container {\n",
              "      display:flex;\n",
              "      gap: 12px;\n",
              "    }\n",
              "\n",
              "    .colab-df-convert {\n",
              "      background-color: #E8F0FE;\n",
              "      border: none;\n",
              "      border-radius: 50%;\n",
              "      cursor: pointer;\n",
              "      display: none;\n",
              "      fill: #1967D2;\n",
              "      height: 32px;\n",
              "      padding: 0 0 0 0;\n",
              "      width: 32px;\n",
              "    }\n",
              "\n",
              "    .colab-df-convert:hover {\n",
              "      background-color: #E2EBFA;\n",
              "      box-shadow: 0px 1px 2px rgba(60, 64, 67, 0.3), 0px 1px 3px 1px rgba(60, 64, 67, 0.15);\n",
              "      fill: #174EA6;\n",
              "    }\n",
              "\n",
              "    .colab-df-buttons div {\n",
              "      margin-bottom: 4px;\n",
              "    }\n",
              "\n",
              "    [theme=dark] .colab-df-convert {\n",
              "      background-color: #3B4455;\n",
              "      fill: #D2E3FC;\n",
              "    }\n",
              "\n",
              "    [theme=dark] .colab-df-convert:hover {\n",
              "      background-color: #434B5C;\n",
              "      box-shadow: 0px 1px 3px 1px rgba(0, 0, 0, 0.15);\n",
              "      filter: drop-shadow(0px 1px 2px rgba(0, 0, 0, 0.3));\n",
              "      fill: #FFFFFF;\n",
              "    }\n",
              "  </style>\n",
              "\n",
              "    <script>\n",
              "      const buttonEl =\n",
              "        document.querySelector('#df-676de632-f7ad-4dcd-aa35-9ea3b19dc436 button.colab-df-convert');\n",
              "      buttonEl.style.display =\n",
              "        google.colab.kernel.accessAllowed ? 'block' : 'none';\n",
              "\n",
              "      async function convertToInteractive(key) {\n",
              "        const element = document.querySelector('#df-676de632-f7ad-4dcd-aa35-9ea3b19dc436');\n",
              "        const dataTable =\n",
              "          await google.colab.kernel.invokeFunction('convertToInteractive',\n",
              "                                                    [key], {});\n",
              "        if (!dataTable) return;\n",
              "\n",
              "        const docLinkHtml = 'Like what you see? Visit the ' +\n",
              "          '<a target=\"_blank\" href=https://colab.research.google.com/notebooks/data_table.ipynb>data table notebook</a>'\n",
              "          + ' to learn more about interactive tables.';\n",
              "        element.innerHTML = '';\n",
              "        dataTable['output_type'] = 'display_data';\n",
              "        await google.colab.output.renderOutput(dataTable, element);\n",
              "        const docLink = document.createElement('div');\n",
              "        docLink.innerHTML = docLinkHtml;\n",
              "        element.appendChild(docLink);\n",
              "      }\n",
              "    </script>\n",
              "  </div>\n",
              "\n",
              "\n",
              "<div id=\"df-f69c73d5-b24a-48b0-a86e-b9fe4e02bfee\">\n",
              "  <button class=\"colab-df-quickchart\" onclick=\"quickchart('df-f69c73d5-b24a-48b0-a86e-b9fe4e02bfee')\"\n",
              "            title=\"Suggest charts.\"\n",
              "            style=\"display:none;\">\n",
              "\n",
              "<svg xmlns=\"http://www.w3.org/2000/svg\" height=\"24px\"viewBox=\"0 0 24 24\"\n",
              "     width=\"24px\">\n",
              "    <g>\n",
              "        <path d=\"M19 3H5c-1.1 0-2 .9-2 2v14c0 1.1.9 2 2 2h14c1.1 0 2-.9 2-2V5c0-1.1-.9-2-2-2zM9 17H7v-7h2v7zm4 0h-2V7h2v10zm4 0h-2v-4h2v4z\"/>\n",
              "    </g>\n",
              "</svg>\n",
              "  </button>\n",
              "\n",
              "<style>\n",
              "  .colab-df-quickchart {\n",
              "      --bg-color: #E8F0FE;\n",
              "      --fill-color: #1967D2;\n",
              "      --hover-bg-color: #E2EBFA;\n",
              "      --hover-fill-color: #174EA6;\n",
              "      --disabled-fill-color: #AAA;\n",
              "      --disabled-bg-color: #DDD;\n",
              "  }\n",
              "\n",
              "  [theme=dark] .colab-df-quickchart {\n",
              "      --bg-color: #3B4455;\n",
              "      --fill-color: #D2E3FC;\n",
              "      --hover-bg-color: #434B5C;\n",
              "      --hover-fill-color: #FFFFFF;\n",
              "      --disabled-bg-color: #3B4455;\n",
              "      --disabled-fill-color: #666;\n",
              "  }\n",
              "\n",
              "  .colab-df-quickchart {\n",
              "    background-color: var(--bg-color);\n",
              "    border: none;\n",
              "    border-radius: 50%;\n",
              "    cursor: pointer;\n",
              "    display: none;\n",
              "    fill: var(--fill-color);\n",
              "    height: 32px;\n",
              "    padding: 0;\n",
              "    width: 32px;\n",
              "  }\n",
              "\n",
              "  .colab-df-quickchart:hover {\n",
              "    background-color: var(--hover-bg-color);\n",
              "    box-shadow: 0 1px 2px rgba(60, 64, 67, 0.3), 0 1px 3px 1px rgba(60, 64, 67, 0.15);\n",
              "    fill: var(--button-hover-fill-color);\n",
              "  }\n",
              "\n",
              "  .colab-df-quickchart-complete:disabled,\n",
              "  .colab-df-quickchart-complete:disabled:hover {\n",
              "    background-color: var(--disabled-bg-color);\n",
              "    fill: var(--disabled-fill-color);\n",
              "    box-shadow: none;\n",
              "  }\n",
              "\n",
              "  .colab-df-spinner {\n",
              "    border: 2px solid var(--fill-color);\n",
              "    border-color: transparent;\n",
              "    border-bottom-color: var(--fill-color);\n",
              "    animation:\n",
              "      spin 1s steps(1) infinite;\n",
              "  }\n",
              "\n",
              "  @keyframes spin {\n",
              "    0% {\n",
              "      border-color: transparent;\n",
              "      border-bottom-color: var(--fill-color);\n",
              "      border-left-color: var(--fill-color);\n",
              "    }\n",
              "    20% {\n",
              "      border-color: transparent;\n",
              "      border-left-color: var(--fill-color);\n",
              "      border-top-color: var(--fill-color);\n",
              "    }\n",
              "    30% {\n",
              "      border-color: transparent;\n",
              "      border-left-color: var(--fill-color);\n",
              "      border-top-color: var(--fill-color);\n",
              "      border-right-color: var(--fill-color);\n",
              "    }\n",
              "    40% {\n",
              "      border-color: transparent;\n",
              "      border-right-color: var(--fill-color);\n",
              "      border-top-color: var(--fill-color);\n",
              "    }\n",
              "    60% {\n",
              "      border-color: transparent;\n",
              "      border-right-color: var(--fill-color);\n",
              "    }\n",
              "    80% {\n",
              "      border-color: transparent;\n",
              "      border-right-color: var(--fill-color);\n",
              "      border-bottom-color: var(--fill-color);\n",
              "    }\n",
              "    90% {\n",
              "      border-color: transparent;\n",
              "      border-bottom-color: var(--fill-color);\n",
              "    }\n",
              "  }\n",
              "</style>\n",
              "\n",
              "  <script>\n",
              "    async function quickchart(key) {\n",
              "      const quickchartButtonEl =\n",
              "        document.querySelector('#' + key + ' button');\n",
              "      quickchartButtonEl.disabled = true;  // To prevent multiple clicks.\n",
              "      quickchartButtonEl.classList.add('colab-df-spinner');\n",
              "      try {\n",
              "        const charts = await google.colab.kernel.invokeFunction(\n",
              "            'suggestCharts', [key], {});\n",
              "      } catch (error) {\n",
              "        console.error('Error during call to suggestCharts:', error);\n",
              "      }\n",
              "      quickchartButtonEl.classList.remove('colab-df-spinner');\n",
              "      quickchartButtonEl.classList.add('colab-df-quickchart-complete');\n",
              "    }\n",
              "    (() => {\n",
              "      let quickchartButtonEl =\n",
              "        document.querySelector('#df-f69c73d5-b24a-48b0-a86e-b9fe4e02bfee button');\n",
              "      quickchartButtonEl.style.display =\n",
              "        google.colab.kernel.accessAllowed ? 'block' : 'none';\n",
              "    })();\n",
              "  </script>\n",
              "</div>\n",
              "    </div>\n",
              "  </div>\n"
            ]
          },
          "metadata": {},
          "execution_count": 41
        }
      ]
    }
  ]
}